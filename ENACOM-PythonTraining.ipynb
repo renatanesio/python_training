{
 "cells": [
  {
   "cell_type": "markdown",
   "metadata": {
    "colab_type": "text",
    "id": "7asrMLCLVLaJ"
   },
   "source": [
    "#  Hands-on Python\n",
    "\n",
    "## Exercício I (numpy, pandas, matplotlib)\n",
    "\n",
    "Você deverá resolver o seguinte notebook: [numpy-pandas-training](https://colab.research.google.com/drive/1Nrf4IXESsW6fx2L3W6tZfe51WeAYCx8u). Nesse notebook, abaixo de cada célula de código está o resultado esperado.\n",
    "\n",
    "\n"
   ]
  },
  {
   "cell_type": "markdown",
   "metadata": {
    "colab_type": "text",
    "id": "_bCLLcRooVwA"
   },
   "source": [
    "## Exercício Extra 1 (implementação) - Obrigatório para a célula de otimização\n",
    "\n",
    "Implementar o Algoritmo do Gradiente (referência: http://www.mat.ufmg.br/~taka/Download/OTEV-Vol2.pdf, página 63) na otimização do seguinte problema:\n",
    "\n",
    "$$\\min_\\bar{x} f(x_1,x_2) = (x_1-1)^2 + 2x_2^2\\\\\n",
    "-10 \\leq x_1, x_2 \\leq 10$$\n",
    "\n",
    "Onde o ótimo é $x^* = [1, 0]^T$.\n",
    "\n",
    "Requisitos da implementação:\n",
    "\n",
    "- Inicialmente, plotar as curvas de nível da função objetivo;\n",
    "\n",
    "- Plotar o valor de $f(\\bar{x})$ ao longo das iterações;\n",
    "\n",
    "- Ao final, marcar o ponto $\\bar{x}^*$ no gráfico inicial;\n",
    "\n",
    "- Ter uma função que retorne o valor de $f(\\bar{x})$ e de $\\nabla f(\\bar{x})$ para um dado $\\bar{x}$;\n",
    "\n",
    "- Número máximo de iterações: 100;\n",
    "\n",
    "- Precisão $\\epsilon = 10^{-2}$;\n",
    "\n",
    "- Critérios de parada:\n",
    "  - Número máximo de iterações\n",
    "  - $ ||\\nabla f(\\bar{x})|| \\leq \\epsilon$\n",
    "  \n",
    "- Ponto inicial: $\\bar{x}_0 = [10, 10]^T$\n",
    "\n",
    "Dicas:\n",
    "\n",
    "- $ \\nabla f(\\bar{x}_k) = \\begin{bmatrix} \n",
    "\\frac{\\partial f(x)}{\\partial x_1} \\\\\n",
    "\\frac{\\partial f(x)}{\\partial x_2} \\\\\n",
    "\\end{bmatrix}$;\n",
    "\n",
    "- $\\bar{d}_k = -\\frac{\\nabla f(\\bar{x}_k)}{||\\nabla f(\\bar{x}_k)||}$;\n",
    "\n",
    "- $\\alpha_k = \\frac{d_1 - x_1d_1 - 2x_2d_2}{d_1^2+2d_2^2}$.\n",
    "\n",
    "\n",
    "\n",
    "\n"
   ]
  },
  {
   "cell_type": "markdown",
   "metadata": {
    "colab_type": "text",
    "id": "lLkKxU_nVV0E"
   },
   "source": [
    "## Exercício Extra 2 (implementação) - Obrigatório para a célula de Dados\n",
    "\n",
    ">The sinking of the RMS Titanic is one of the most infamous shipwrecks in history.  On April 15, 1912, during her maiden voyage, the Titanic sank after colliding with an iceberg, killing 1502 out of 2224 passengers and crew.  This sensational tragedy shocked the international community and led to better safety regulations for ships.\n",
    "\n",
    ">One of the reasons that the shipwreck led to such loss of life was that there were not enough lifeboats for the passengers and crew.  Although there was some element of luck involved in surviving the sinking, some groups of people were more likely to survive than others, such as women, children, and the upper-class.\n",
    "\n",
    ">In this contest, we ask you to complete the analysis of what sorts of people were likely to survive.\n",
    "\n",
    "Os dados estão disponíveis [aqui](http://homepages.dcc.ufmg.br/~lucasmdo/train.csv).\n",
    "\n",
    "\n",
    "### Objetivos:\n",
    "Agregar todo o conhecimento básico adiquirido anteriormente e utilizá-lo em um exemplo \"real\".\n",
    "\n",
    "#### Passos: \n",
    "*   Importar dados com Pandas\n",
    "*   Limpeza dos dados\n",
    "*   Exploração dos dados com visualização através do Matplotlib\n",
    "\n",
    "#### Requisitos do exercício\n",
    "*   Ler os dados com o Pandas e exibir os primeiros $k$ exemplos ($k$ arbitrário).\n",
    "*   Exibir informações básicas do DataFrame\n",
    "*   Exibir um DataFrame com algumas estatísticas dos dados\n",
    "*   Limpeza dos dados\n",
    " *   Remover todas as linhas/colunas que você achar pertinente\n",
    "*   Plotar os seguintes gráficos:\n",
    " *   **Plot 1:** Plot com 5 imagens contendo os seguintes gráficos:\n",
    "     *   Gráfico de barras com a distribuição de sobreviventes e falecidos\n",
    "     *   Boxplot da idade dos passageiros, agrupado pelo status de sobrevivência ($Survived$)\n",
    "     *   Gráfico de torta com a distribuição das classes ($Pclass$)\n",
    "     *   Distribuição da densidade da idade, agrupado por classe ($Pclass$)\n",
    "     *   Gráfico de barras de passageiros por porto de emarque ($Embarked$)\n",
    " *   **Plot 2:** Plot com 1 imagem contendo:\n",
    "      *   Distribuição de densidade da idade pelo status de sobrevivência ($Survived$)\n",
    " *   **Plot 3:** Plot com 4 imagens contendo:\n",
    "      *   Gráfico de barras com a distribuição de sobreviventes e falecidos, agrupados por sexo ($Sex$)\n",
    "      *   Gráfico de barras com a distribuição de sobreviventes e falecidos, agrupados por classe ($Pclass$)\n",
    "      *   Gráfico de barras com a distribuição de mulheres sobreviventes e falecidas, agrupadas por classe ($Pclass$)\n",
    "      *   Gráfico de barras com a distribuição de homens sobreviventes e falecidos, agrupadas por classe ($Pclass$)\n",
    "      \n",
    "[Aqui](https://colab.research.google.com/drive/1e5Wywc0F7L8trBKBkapn4DhakqcmP0XQ) estão apresentados os resultados esperados para cada exercício (é necessário estár logado com uma conta da Google). Tente fazer o máximo que conseguir, 80% do trabalho de Data Science é análise exploratória dos dados **=D**\n",
    "\n",
    "#### Dicas\n",
    "*   $df.describe()$ e $df.info()$\n",
    "*   $df.dropna()$\n",
    "*   $kind='kde'$"
   ]
  },
  {
   "cell_type": "markdown",
   "metadata": {
    "colab_type": "text",
    "id": "dam31_LyZWi6"
   },
   "source": [
    "## Referências\n",
    "\n",
    "- **Numpy**\n",
    "  - [User guide](https://docs.scipy.org/doc/numpy/user/index.html)\n",
    "  - [Cheat-sheet](https://s3.amazonaws.com/assets.datacamp.com/blog_assets/Numpy_Python_Cheat_Sheet.pdf)\n",
    "  - [Numpy notebook](https://colab.research.google.com/drive/1qwJFeJBOQNHctsmWE0uNpkjhEvXYSqnd)\n",
    "\n",
    "- **Matplotlib**\n",
    "  - [User guide](https://matplotlib.org/users/index.html)\n",
    "  - [Cheat-sheet](https://s3.amazonaws.com/assets.datacamp.com/blog_assets/Python_Matplotlib_Cheat_Sheet.pdf)\n",
    "  \n",
    "- **Pandas**\n",
    "  - [Tutorials and references](https://pandas.pydata.org/pandas-docs/version/0.22.0/tutorials.html)\n",
    "  - [Cheat-sheet](https://s3.amazonaws.com/assets.datacamp.com/blog_assets/PandasPythonForDataScience.pdf)\n",
    "  - [Pandas notebook](https://colab.research.google.com/drive/1SR2lz4pC5uZeQzg_RNYNaTVa6L0-esha)"
   ]
  }
 ],
 "metadata": {
  "colab": {
   "collapsed_sections": [],
   "name": "ENACOM-PythonTraining.ipynb",
   "provenance": []
  },
  "kernelspec": {
   "display_name": "Python 3",
   "language": "python",
   "name": "python3"
  },
  "language_info": {
   "codemirror_mode": {
    "name": "ipython",
    "version": 3
   },
   "file_extension": ".py",
   "mimetype": "text/x-python",
   "name": "python",
   "nbconvert_exporter": "python",
   "pygments_lexer": "ipython3",
   "version": "3.8.5"
  }
 },
 "nbformat": 4,
 "nbformat_minor": 1
}
