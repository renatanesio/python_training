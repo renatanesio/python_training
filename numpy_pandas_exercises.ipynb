{
  "nbformat": 4,
  "nbformat_minor": 0,
  "metadata": {
    "colab": {
      "name": "numpy-pandas-exercises.ipynb",
      "provenance": []
    },
    "kernelspec": {
      "display_name": "Python 3",
      "language": "python",
      "name": "python3"
    }
  },
  "cells": [
    {
      "cell_type": "markdown",
      "metadata": {
        "id": "x5JRow8iIkep"
      },
      "source": [
        "# Exercícios Numpy e Pandas"
      ]
    },
    {
      "cell_type": "code",
      "metadata": {
        "id": "7noAgQtpIker"
      },
      "source": [
        "# importar numpy e pandas\n",
        "import numpy as np\n",
        "import pandas as pd\n",
        "import matplotlib.pyplot as plt\n",
        "import matplotlib.cm as cm"
      ],
      "execution_count": null,
      "outputs": []
    },
    {
      "cell_type": "markdown",
      "metadata": {
        "id": "RLBdqWZPcK74"
      },
      "source": [
        "## Numpy"
      ]
    },
    {
      "cell_type": "markdown",
      "metadata": {
        "id": "u4JCCBksIke2"
      },
      "source": [
        "#### Criar um vetor nulo de tamanho 10."
      ]
    },
    {
      "cell_type": "code",
      "metadata": {
        "id": "1_2BhMM-Ike4",
        "outputId": "e9f90da5-d40e-4c7a-ebd4-45a7379c5ac4"
      },
      "source": [
        "Z = # YOUR CODE HERE\n",
        "print(Z)"
      ],
      "execution_count": null,
      "outputs": [
        {
          "output_type": "stream",
          "text": [
            "[ 0.  0.  0.  0.  0.  0.  0.  0.  0.  0.]\n"
          ],
          "name": "stdout"
        }
      ]
    },
    {
      "cell_type": "markdown",
      "metadata": {
        "id": "DVnJH5z6IkfG"
      },
      "source": [
        "#### Criar um vetor nulo de tamanho 10 mas com o quinto elemento igual a 1."
      ]
    },
    {
      "cell_type": "code",
      "metadata": {
        "id": "XcDqqzKqIkfJ",
        "outputId": "b0be3bdf-5085-45e4-85d6-fad69382845e"
      },
      "source": [
        "# YOUR CODE HERE\n",
        "print(Z)"
      ],
      "execution_count": null,
      "outputs": [
        {
          "output_type": "stream",
          "text": [
            "[ 0.  0.  0.  0.  1.  0.  0.  0.  0.  0.]\n"
          ],
          "name": "stdout"
        }
      ]
    },
    {
      "cell_type": "markdown",
      "metadata": {
        "id": "jq2RlaOaIkfQ"
      },
      "source": [
        "#### Criar uma matriz 10x10 com valores aleatórios e achar o menor e o maior valor."
      ]
    },
    {
      "cell_type": "code",
      "metadata": {
        "id": "pTHSRJO4IkfS",
        "outputId": "5b786007-f743-4a5f-801b-5521196df47e"
      },
      "source": [
        "# YOUR CODE HERE\n",
        "print(Zmin, Zmax)"
      ],
      "execution_count": null,
      "outputs": [
        {
          "output_type": "stream",
          "text": [
            "0.00581719144953 0.982630427091\n"
          ],
          "name": "stdout"
        }
      ]
    },
    {
      "cell_type": "markdown",
      "metadata": {
        "id": "-UpTJLxNIkfb"
      },
      "source": [
        "#### Criar uma matriz 10x10 com 1's nas bordas e 0's caso contrário."
      ]
    },
    {
      "cell_type": "code",
      "metadata": {
        "id": "qlRwccJzIkfh",
        "outputId": "8d164dd5-fee4-482d-f3f3-0128b0714bc6"
      },
      "source": [
        "# YOUR CODE HERE\n",
        "print(Z)"
      ],
      "execution_count": null,
      "outputs": [
        {
          "output_type": "stream",
          "text": [
            "[[ 1.  1.  1.  1.  1.  1.  1.  1.  1.  1.]\n",
            " [ 1.  0.  0.  0.  0.  0.  0.  0.  0.  1.]\n",
            " [ 1.  0.  0.  0.  0.  0.  0.  0.  0.  1.]\n",
            " [ 1.  0.  0.  0.  0.  0.  0.  0.  0.  1.]\n",
            " [ 1.  0.  0.  0.  0.  0.  0.  0.  0.  1.]\n",
            " [ 1.  0.  0.  0.  0.  0.  0.  0.  0.  1.]\n",
            " [ 1.  0.  0.  0.  0.  0.  0.  0.  0.  1.]\n",
            " [ 1.  0.  0.  0.  0.  0.  0.  0.  0.  1.]\n",
            " [ 1.  0.  0.  0.  0.  0.  0.  0.  0.  1.]\n",
            " [ 1.  1.  1.  1.  1.  1.  1.  1.  1.  1.]]\n"
          ],
          "name": "stdout"
        }
      ]
    },
    {
      "cell_type": "markdown",
      "metadata": {
        "id": "oCaqcF16Ikf_"
      },
      "source": [
        "#### Normalizar (menor valor = 0, maior valor = 1) uma matriz 5x5 que possui valores aleatórios."
      ]
    },
    {
      "cell_type": "code",
      "metadata": {
        "id": "lSJg_KEmIkgD",
        "outputId": "96004aea-774c-417e-d98c-3e3f1cc5addc"
      },
      "source": [
        "Z = np.random.random((5,5))\n",
        "# YOUR CODE HERE\n",
        "print(Znorm)"
      ],
      "execution_count": null,
      "outputs": [
        {
          "output_type": "stream",
          "text": [
            "[[ 0.01367341  0.8778024   0.44022054  0.56598921  0.83381795]\n",
            " [ 0.07461138  0.71299769  0.38372045  0.          0.03496308]\n",
            " [ 0.43531365  1.          0.07959044  0.55668656  0.65214373]\n",
            " [ 0.44071575  0.80407977  0.71609311  0.73277068  0.49962845]\n",
            " [ 0.74646353  0.89336139  0.5654209   0.69103335  0.36585418]]\n"
          ],
          "name": "stdout"
        }
      ]
    },
    {
      "cell_type": "markdown",
      "metadata": {
        "id": "fJykWkBMIkgO"
      },
      "source": [
        "#### Multiplicar uma matriz 5x3 por uma 3x2,  ambas compostas por 1's."
      ]
    },
    {
      "cell_type": "code",
      "metadata": {
        "id": "hVA3_6pRIkgQ",
        "outputId": "7752da3c-d106-43ff-fa7b-509f679def8a"
      },
      "source": [
        "Z = # YOUR CODE HERE\n",
        "print(Z)"
      ],
      "execution_count": null,
      "outputs": [
        {
          "output_type": "stream",
          "text": [
            "[[ 3.  3.]\n",
            " [ 3.  3.]\n",
            " [ 3.  3.]\n",
            " [ 3.  3.]\n",
            " [ 3.  3.]]\n"
          ],
          "name": "stdout"
        }
      ]
    },
    {
      "cell_type": "markdown",
      "metadata": {
        "id": "-DR61uWoIkgy"
      },
      "source": [
        "#### Retorne a soma da diagonal de x"
      ]
    },
    {
      "cell_type": "code",
      "metadata": {
        "id": "6GS0nB5zIkgz",
        "colab": {
          "base_uri": "https://localhost:8080/",
          "height": 34
        },
        "outputId": "bc2e0f0a-00d3-415d-9683-f33015366a78"
      },
      "source": [
        "x = np.eye(4)\n",
        "x_sum = # YOUR CODE HERE\n",
        "print(x_sum)"
      ],
      "execution_count": null,
      "outputs": [
        {
          "output_type": "stream",
          "text": [
            "4.0\n"
          ],
          "name": "stdout"
        }
      ]
    },
    {
      "cell_type": "markdown",
      "metadata": {
        "id": "j7uGr6p8Ikg3"
      },
      "source": [
        "#### Extrair os elementos ímpares de um vetor"
      ]
    },
    {
      "cell_type": "code",
      "metadata": {
        "id": "zvD2CsNYIkg4",
        "outputId": "f65f339c-36e6-45f6-c9a9-27e8733acddb"
      },
      "source": [
        "x = np.arange(11)\n",
        "x_odd = # YOUR CODE HERE\n",
        "print(x_odd)"
      ],
      "execution_count": null,
      "outputs": [
        {
          "output_type": "stream",
          "text": [
            "[1 3 5 7 9]\n"
          ],
          "name": "stdout"
        }
      ]
    },
    {
      "cell_type": "markdown",
      "metadata": {
        "id": "WNciouRkPj9C"
      },
      "source": [
        "## Pandas"
      ]
    },
    {
      "cell_type": "markdown",
      "metadata": {
        "id": "SUdTJOYIPurq"
      },
      "source": [
        "Considere o seguinte dicionário e a seguinte lista:"
      ]
    },
    {
      "cell_type": "code",
      "metadata": {
        "id": "w41KXPWhPIrD"
      },
      "source": [
        "data = {'animal': ['cat', 'cat', 'snake', 'dog', 'dog', 'cat', 'snake', 'cat', 'dog', 'dog'],\n",
        "        'age': [2.5, 3, 0.5, np.nan, 5, 2, 4.5, np.nan, 7, 3],\n",
        "        'visits': [1, 3, 2, 3, 2, 3, 1, 1, 2, 1],\n",
        "        'priority': ['yes', 'yes', 'no', 'yes', 'no', 'no', 'no', 'yes', 'no', 'no']}\n",
        "\n",
        "labels = ['a', 'b', 'c', 'd', 'e', 'f', 'g', 'h', 'i', 'j']"
      ],
      "execution_count": null,
      "outputs": []
    },
    {
      "cell_type": "markdown",
      "metadata": {
        "id": "p1SM2MTHP0tj"
      },
      "source": [
        "#### Crie um DataFrame df para o dicionário *data* indexado por *labels*."
      ]
    },
    {
      "cell_type": "code",
      "metadata": {
        "id": "pmd5G_MwPVpu"
      },
      "source": [
        "df = # YOUR CODE HERE"
      ],
      "execution_count": null,
      "outputs": []
    },
    {
      "cell_type": "markdown",
      "metadata": {
        "id": "eexYJwGJQX8c"
      },
      "source": [
        "O seguinte trecho mostra as 5 primeiras linhas do dataframe."
      ]
    },
    {
      "cell_type": "code",
      "metadata": {
        "id": "2xJTEnnZPXf-",
        "colab": {
          "base_uri": "https://localhost:8080/",
          "height": 206
        },
        "outputId": "6df6b119-57c0-45f5-b31c-1920b7e8e73c"
      },
      "source": [
        "df.head()"
      ],
      "execution_count": null,
      "outputs": [
        {
          "output_type": "execute_result",
          "data": {
            "text/html": [
              "<div>\n",
              "<style scoped>\n",
              "    .dataframe tbody tr th:only-of-type {\n",
              "        vertical-align: middle;\n",
              "    }\n",
              "\n",
              "    .dataframe tbody tr th {\n",
              "        vertical-align: top;\n",
              "    }\n",
              "\n",
              "    .dataframe thead th {\n",
              "        text-align: right;\n",
              "    }\n",
              "</style>\n",
              "<table border=\"1\" class=\"dataframe\">\n",
              "  <thead>\n",
              "    <tr style=\"text-align: right;\">\n",
              "      <th></th>\n",
              "      <th>age</th>\n",
              "      <th>animal</th>\n",
              "      <th>priority</th>\n",
              "      <th>visits</th>\n",
              "    </tr>\n",
              "  </thead>\n",
              "  <tbody>\n",
              "    <tr>\n",
              "      <th>a</th>\n",
              "      <td>2.5</td>\n",
              "      <td>cat</td>\n",
              "      <td>yes</td>\n",
              "      <td>1</td>\n",
              "    </tr>\n",
              "    <tr>\n",
              "      <th>b</th>\n",
              "      <td>3.0</td>\n",
              "      <td>cat</td>\n",
              "      <td>yes</td>\n",
              "      <td>3</td>\n",
              "    </tr>\n",
              "    <tr>\n",
              "      <th>c</th>\n",
              "      <td>0.5</td>\n",
              "      <td>snake</td>\n",
              "      <td>no</td>\n",
              "      <td>2</td>\n",
              "    </tr>\n",
              "    <tr>\n",
              "      <th>d</th>\n",
              "      <td>NaN</td>\n",
              "      <td>dog</td>\n",
              "      <td>yes</td>\n",
              "      <td>3</td>\n",
              "    </tr>\n",
              "    <tr>\n",
              "      <th>e</th>\n",
              "      <td>5.0</td>\n",
              "      <td>dog</td>\n",
              "      <td>no</td>\n",
              "      <td>2</td>\n",
              "    </tr>\n",
              "  </tbody>\n",
              "</table>\n",
              "</div>"
            ],
            "text/plain": [
              "   age animal priority  visits\n",
              "a  2.5    cat      yes       1\n",
              "b  3.0    cat      yes       3\n",
              "c  0.5  snake       no       2\n",
              "d  NaN    dog      yes       3\n",
              "e  5.0    dog       no       2"
            ]
          },
          "metadata": {
            "tags": []
          },
          "execution_count": 7
        }
      ]
    },
    {
      "cell_type": "code",
      "metadata": {
        "id": "n440ARBEQiuf",
        "colab": {
          "base_uri": "https://localhost:8080/",
          "height": 300
        },
        "outputId": "def835a4-014f-492d-d27d-dcd61e03cd62"
      },
      "source": [
        "df.describe()"
      ],
      "execution_count": null,
      "outputs": [
        {
          "output_type": "execute_result",
          "data": {
            "text/html": [
              "<div>\n",
              "<style scoped>\n",
              "    .dataframe tbody tr th:only-of-type {\n",
              "        vertical-align: middle;\n",
              "    }\n",
              "\n",
              "    .dataframe tbody tr th {\n",
              "        vertical-align: top;\n",
              "    }\n",
              "\n",
              "    .dataframe thead th {\n",
              "        text-align: right;\n",
              "    }\n",
              "</style>\n",
              "<table border=\"1\" class=\"dataframe\">\n",
              "  <thead>\n",
              "    <tr style=\"text-align: right;\">\n",
              "      <th></th>\n",
              "      <th>age</th>\n",
              "      <th>visits</th>\n",
              "    </tr>\n",
              "  </thead>\n",
              "  <tbody>\n",
              "    <tr>\n",
              "      <th>count</th>\n",
              "      <td>8.000000</td>\n",
              "      <td>10.000000</td>\n",
              "    </tr>\n",
              "    <tr>\n",
              "      <th>mean</th>\n",
              "      <td>3.437500</td>\n",
              "      <td>1.900000</td>\n",
              "    </tr>\n",
              "    <tr>\n",
              "      <th>std</th>\n",
              "      <td>2.007797</td>\n",
              "      <td>0.875595</td>\n",
              "    </tr>\n",
              "    <tr>\n",
              "      <th>min</th>\n",
              "      <td>0.500000</td>\n",
              "      <td>1.000000</td>\n",
              "    </tr>\n",
              "    <tr>\n",
              "      <th>25%</th>\n",
              "      <td>2.375000</td>\n",
              "      <td>1.000000</td>\n",
              "    </tr>\n",
              "    <tr>\n",
              "      <th>50%</th>\n",
              "      <td>3.000000</td>\n",
              "      <td>2.000000</td>\n",
              "    </tr>\n",
              "    <tr>\n",
              "      <th>75%</th>\n",
              "      <td>4.625000</td>\n",
              "      <td>2.750000</td>\n",
              "    </tr>\n",
              "    <tr>\n",
              "      <th>max</th>\n",
              "      <td>7.000000</td>\n",
              "      <td>3.000000</td>\n",
              "    </tr>\n",
              "  </tbody>\n",
              "</table>\n",
              "</div>"
            ],
            "text/plain": [
              "            age     visits\n",
              "count  8.000000  10.000000\n",
              "mean   3.437500   1.900000\n",
              "std    2.007797   0.875595\n",
              "min    0.500000   1.000000\n",
              "25%    2.375000   1.000000\n",
              "50%    3.000000   2.000000\n",
              "75%    4.625000   2.750000\n",
              "max    7.000000   3.000000"
            ]
          },
          "metadata": {
            "tags": []
          },
          "execution_count": 10
        }
      ]
    },
    {
      "cell_type": "markdown",
      "metadata": {
        "id": "x313br-PQyIk"
      },
      "source": [
        "#### Selecione as colunas 'animal' e 'age' do DataFrame"
      ]
    },
    {
      "cell_type": "code",
      "metadata": {
        "id": "R127GqLhQxM9",
        "colab": {
          "base_uri": "https://localhost:8080/",
          "height": 363
        },
        "outputId": "da331134-2ee1-4743-8a40-2da4bb2ebbcf"
      },
      "source": [
        "# YOUR CODE HERE"
      ],
      "execution_count": null,
      "outputs": [
        {
          "output_type": "execute_result",
          "data": {
            "text/html": [
              "<div>\n",
              "<style scoped>\n",
              "    .dataframe tbody tr th:only-of-type {\n",
              "        vertical-align: middle;\n",
              "    }\n",
              "\n",
              "    .dataframe tbody tr th {\n",
              "        vertical-align: top;\n",
              "    }\n",
              "\n",
              "    .dataframe thead th {\n",
              "        text-align: right;\n",
              "    }\n",
              "</style>\n",
              "<table border=\"1\" class=\"dataframe\">\n",
              "  <thead>\n",
              "    <tr style=\"text-align: right;\">\n",
              "      <th></th>\n",
              "      <th>animal</th>\n",
              "      <th>age</th>\n",
              "    </tr>\n",
              "  </thead>\n",
              "  <tbody>\n",
              "    <tr>\n",
              "      <th>a</th>\n",
              "      <td>cat</td>\n",
              "      <td>2.5</td>\n",
              "    </tr>\n",
              "    <tr>\n",
              "      <th>b</th>\n",
              "      <td>cat</td>\n",
              "      <td>3.0</td>\n",
              "    </tr>\n",
              "    <tr>\n",
              "      <th>c</th>\n",
              "      <td>snake</td>\n",
              "      <td>0.5</td>\n",
              "    </tr>\n",
              "    <tr>\n",
              "      <th>d</th>\n",
              "      <td>dog</td>\n",
              "      <td>NaN</td>\n",
              "    </tr>\n",
              "    <tr>\n",
              "      <th>e</th>\n",
              "      <td>dog</td>\n",
              "      <td>5.0</td>\n",
              "    </tr>\n",
              "    <tr>\n",
              "      <th>f</th>\n",
              "      <td>cat</td>\n",
              "      <td>2.0</td>\n",
              "    </tr>\n",
              "    <tr>\n",
              "      <th>g</th>\n",
              "      <td>snake</td>\n",
              "      <td>4.5</td>\n",
              "    </tr>\n",
              "    <tr>\n",
              "      <th>h</th>\n",
              "      <td>cat</td>\n",
              "      <td>NaN</td>\n",
              "    </tr>\n",
              "    <tr>\n",
              "      <th>i</th>\n",
              "      <td>dog</td>\n",
              "      <td>7.0</td>\n",
              "    </tr>\n",
              "    <tr>\n",
              "      <th>j</th>\n",
              "      <td>dog</td>\n",
              "      <td>3.0</td>\n",
              "    </tr>\n",
              "  </tbody>\n",
              "</table>\n",
              "</div>"
            ],
            "text/plain": [
              "  animal  age\n",
              "a    cat  2.5\n",
              "b    cat  3.0\n",
              "c  snake  0.5\n",
              "d    dog  NaN\n",
              "e    dog  5.0\n",
              "f    cat  2.0\n",
              "g  snake  4.5\n",
              "h    cat  NaN\n",
              "i    dog  7.0\n",
              "j    dog  3.0"
            ]
          },
          "metadata": {
            "tags": []
          },
          "execution_count": 11
        }
      ]
    },
    {
      "cell_type": "markdown",
      "metadata": {
        "id": "0V-EoU9QRFvE"
      },
      "source": [
        "#### Calcule a soma total de visitas"
      ]
    },
    {
      "cell_type": "code",
      "metadata": {
        "id": "hWjewAuZRFE4",
        "colab": {
          "base_uri": "https://localhost:8080/",
          "height": 34
        },
        "outputId": "9a6c4dac-5a33-4b13-8add-68330e8d0275"
      },
      "source": [
        "# YOUR CODE HERE"
      ],
      "execution_count": null,
      "outputs": [
        {
          "output_type": "execute_result",
          "data": {
            "text/plain": [
              "19"
            ]
          },
          "metadata": {
            "tags": []
          },
          "execution_count": 12
        }
      ]
    },
    {
      "cell_type": "markdown",
      "metadata": {
        "id": "cglmBeUbcQXa"
      },
      "source": [
        "## Matplotlib"
      ]
    },
    {
      "cell_type": "markdown",
      "metadata": {
        "id": "or_WaW9Mcdxu"
      },
      "source": [
        "#### Plote a função $y = x^2~\\forall~x \\in [0, 5]$"
      ]
    },
    {
      "cell_type": "code",
      "metadata": {
        "id": "VjabMn-OcRj0",
        "colab": {
          "base_uri": "https://localhost:8080/",
          "height": 381
        },
        "outputId": "097abf7e-aab9-4bb8-9a4f-38d5b9c0cefd"
      },
      "source": [
        "x = # YOUR CODE HERE\n",
        "y = # YOUR CODE HERE\n",
        "\n",
        "plt.figure()\n",
        "# YOUR CODE HERE\n",
        "plt.show()\n"
      ],
      "execution_count": null,
      "outputs": [
        {
          "output_type": "display_data",
          "data": {
            "image/png": "[encoded data removed]",
            "text/plain": [
              "<matplotlib.figure.Figure at 0x7f150f097f60>"
            ]
          },
          "metadata": {
            "tags": []
          }
        }
      ]
    },
    {
      "cell_type": "markdown",
      "metadata": {
        "id": "5gfjihuWdQ7v"
      },
      "source": [
        "#### Acrescente a função $y = e^x$ no mesmo gráfico anterior."
      ]
    },
    {
      "cell_type": "code",
      "metadata": {
        "id": "KgICYaXRc5Iz",
        "colab": {
          "base_uri": "https://localhost:8080/",
          "height": 376
        },
        "outputId": "5bae9e93-401f-4eec-d96a-7f1756425389"
      },
      "source": [
        "# YOUR CODE HERE"
      ],
      "execution_count": null,
      "outputs": [
        {
          "output_type": "display_data",
          "data": {
            "image/png": "[encoded data removed]",
            "text/plain": [
              "<matplotlib.figure.Figure at 0x7f150f21cf60>"
            ]
          },
          "metadata": {
            "tags": []
          }
        }
      ]
    },
    {
      "cell_type": "markdown",
      "metadata": {
        "id": "sz_m0DsOhULx"
      },
      "source": [
        "#### Plote as curvas de nível da função $f(x_1,x_2) = x_1^2 + x_2^2$ para $-10 \\leq x_1,x_2 \\leq 10$."
      ]
    },
    {
      "cell_type": "code",
      "metadata": {
        "id": "lqught58e6IB",
        "colab": {
          "base_uri": "https://localhost:8080/",
          "height": 381
        },
        "outputId": "e6e7af29-bc72-4b13-95e3-a78e6a821b80"
      },
      "source": [
        "# YOUR CODE HERE\n",
        "plt.show()"
      ],
      "execution_count": null,
      "outputs": [
        {
          "output_type": "display_data",
          "data": {
            "image/png": "[encoded data removed]",
            "text/plain": [
              "<matplotlib.figure.Figure at 0x7f150cbc7358>"
            ]
          },
          "metadata": {
            "tags": []
          }
        }
      ]
    }
  ]
}