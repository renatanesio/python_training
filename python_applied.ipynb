{
 "cells": [
  {
   "cell_type": "markdown",
   "metadata": {
    "id": "2cib3bnXWTPe"
   },
   "source": [
    "# Projetos aplicados em Python\n",
    "\n",
    "Nesse treinamento, você deverá implementar as classes dos jogos `DiceRolling` e `GuessingGame`. Ambas devem herdar da classe base `BaseGame`. "
   ]
  },
  {
   "cell_type": "code",
   "execution_count": null,
   "metadata": {
    "id": "B5KTN6YWmpJk"
   },
   "outputs": [],
   "source": [
    "import abc\n",
    "import random\n",
    "import matplotlib.pyplot as plt\n",
    "\n",
    "class BaseGame(metaclass=abc.ABCMeta):\n",
    "  \n",
    "    @abc.abstractmethod\n",
    "    def run(self):\n",
    "    \"\"\"Main method to run the game.\"\"\"\n",
    "        pass\n",
    "  \n",
    "    @abc.abstractmethod\n",
    "    def _input_check(self):\n",
    "    \"\"\"Check user input.\"\"\"\n",
    "        pass"
   ]
  },
  {
   "cell_type": "markdown",
   "metadata": {
    "id": "9If64s4sjB1a"
   },
   "source": [
    "## Dice Rolling\n",
    "\n",
    "Like the title suggests, this project involves writing a program that simulates rolling dice. When the program runs, it will randomly choose a number between 1 and 6. (Or whatever other integer you prefer — the number of sides on the die is up to you.) The program will print what that number is. It should then ask you if you’d like to roll again. For this project, you’ll need to set the min and max number that your dice can produce. For the average die, that means a minimum of 1 and a maximum of 6. You’ll also want a function that randomly grabs a number within that range and prints it."
   ]
  },
  {
   "cell_type": "code",
   "execution_count": null,
   "metadata": {
    "id": "EqKqUjOtjSL6"
   },
   "outputs": [],
   "source": [
    "class DiceRolling(BaseGame):\n",
    "    \"\"\"Rolling a dice.\"\"\"\n",
    "    \n",
    "  ## YOUR CODE ##"
   ]
  },
  {
   "cell_type": "code",
   "execution_count": null,
   "metadata": {
    "colab": {
     "base_uri": "https://localhost:8080/",
     "height": 305
    },
    "id": "8o1amGGIlOV5",
    "outputId": "0c894729-7f61-45ff-b2ff-12e4371a527d"
   },
   "outputs": [
    {
     "name": "stdout",
     "output_type": "stream",
     "text": [
      "Roll dice? (y/n): y\n",
      "You got 2\n",
      "Roll dice? (y/n): h\n",
      "You must type 'y' or 'n'! Try again...\n",
      "Roll dice? (y/n): 1\n",
      "You must type 'y' or 'n'! Try again...\n",
      "Roll dice? (y/n): y\n",
      "You got 2\n",
      "Roll dice? (y/n): y\n",
      "You got 6\n",
      "Roll dice? (y/n): y\n",
      "You got 6\n",
      "Roll dice? (y/n): y\n",
      "You got 4\n",
      "Roll dice? (y/n): n\n"
     ]
    },
    {
     "data": {
      "text/plain": [
       "0"
      ]
     },
     "execution_count": 102,
     "metadata": {
      "tags": []
     },
     "output_type": "execute_result"
    }
   ],
   "source": [
    "dice_rolling = DiceRolling()\n",
    "dice_rolling.run()"
   ]
  },
  {
   "cell_type": "markdown",
   "metadata": {
    "id": "4TtHU-LNWZxb"
   },
   "source": [
    "## Guessing Game"
   ]
  },
  {
   "cell_type": "markdown",
   "metadata": {
    "id": "qU8QSItcYXL7"
   },
   "source": [
    "The program will first randomly generate a number unknown to the user. The user needs to guess what that number is. (In other words, the user needs to be able to input information.) If the user’s guess is wrong, the program should return some sort of indication as to how wrong (e.g. The number is too high or too low). If the user guesses correctly, a positive indication should appear. You’ll need functions to check if the user input is an actual number, to see the difference between the inputted number and the randomly generated numbers, and to then compare the numbers."
   ]
  },
  {
   "cell_type": "code",
   "execution_count": null,
   "metadata": {
    "id": "pnvHs7HKYCmI"
   },
   "outputs": [],
   "source": [
    "class GuessingGame(BaseGame):\n",
    "    \"\"\"Guess a number between 1 and 99.\"\"\"\n",
    "  \n",
    "  ## YOUR CODE ##"
   ]
  },
  {
   "cell_type": "code",
   "execution_count": null,
   "metadata": {
    "colab": {
     "base_uri": "https://localhost:8080/",
     "height": 649
    },
    "id": "Pdxb0U3shG3i",
    "outputId": "9d3494ea-3009-41fb-e7a8-8b42fa962694"
   },
   "outputs": [
    {
     "name": "stdout",
     "output_type": "stream",
     "text": [
      "Enter an integer from 1 to 99: -1\n",
      "Your guess must be within 1 and 99! Try again...\n",
      "Enter an integer from 1 to 99: a\n",
      "Your guess must be an integer between 1 and 99! Try again...\n",
      "Enter an integer from 1 to 99: 50\n",
      "Your guess is high!\n",
      "Enter an integer from 1 to 99: 20\n",
      "Your guess is low!\n",
      "Enter an integer from 1 to 99: 30\n",
      "Your guess is low!\n",
      "Enter an integer from 1 to 99: 40\n",
      "Your guess is high!\n",
      "Enter an integer from 1 to 99: 35\n",
      "Your guess is low!\n",
      "Enter an integer from 1 to 99: 37\n",
      "You guessed it!\n"
     ]
    },
    {
     "data": {
      "image/png": "[encoded data removed]",
      "text/plain": [
       "<Figure size 576x396 with 1 Axes>"
      ]
     },
     "metadata": {
      "tags": []
     },
     "output_type": "display_data"
    }
   ],
   "source": [
    "guessing_game = GuessingGame()\n",
    "guessing_game.run()"
   ]
  }
 ],
 "metadata": {
  "colab": {
   "collapsed_sections": [],
   "name": "python_applied.ipynb",
   "provenance": []
  },
  "kernelspec": {
   "display_name": "Python 3",
   "language": "python",
   "name": "python3"
  },
  "language_info": {
   "codemirror_mode": {
    "name": "ipython",
    "version": 3
   },
   "file_extension": ".py",
   "mimetype": "text/x-python",
   "name": "python",
   "nbconvert_exporter": "python",
   "pygments_lexer": "ipython3",
   "version": "3.8.5"
  }
 },
 "nbformat": 4,
 "nbformat_minor": 1
}
