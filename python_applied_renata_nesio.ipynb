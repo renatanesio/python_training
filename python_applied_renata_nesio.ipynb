{
 "cells": [
  {
   "cell_type": "markdown",
   "metadata": {
    "id": "2cib3bnXWTPe"
   },
   "source": [
    "# Projetos aplicados em Python\n",
    "\n",
    "Nesse treinamento, você deverá implementar as classes dos jogos `DiceRolling` e `GuessingGame`. Ambas devem herdar da classe base `BaseGame`. "
   ]
  },
  {
   "cell_type": "code",
   "execution_count": 2,
   "metadata": {
    "id": "B5KTN6YWmpJk"
   },
   "outputs": [],
   "source": [
    "import abc\n",
    "import random\n",
    "import matplotlib.pyplot as plt\n",
    "\n",
    "class BaseGame(metaclass=abc.ABCMeta):\n",
    "  \n",
    "    @abc.abstractmethod\n",
    "    def run(self):\n",
    "        \"\"\"\"Main method to run the game.\"\"\"\n",
    "        pass\n",
    "  \n",
    "    @abc.abstractmethod\n",
    "    def _input_check(self):\n",
    "        \"\"\"Check user input.\"\"\"\n",
    "        pass"
   ]
  },
  {
   "cell_type": "markdown",
   "metadata": {
    "id": "9If64s4sjB1a"
   },
   "source": [
    "## Dice Rolling\n",
    "\n",
    "Like the title suggests, this project involves writing a program that simulates rolling dice. When the program runs, it will randomly choose a number between 1 and 6. (Or whatever other integer you prefer — the number of sides on the die is up to you.) The program will print what that number is. It should then ask you if you’d like to roll again. For this project, you’ll need to set the min and max number that your dice can produce. For the average die, that means a minimum of 1 and a maximum of 6. You’ll also want a function that randomly grabs a number within that range and prints it."
   ]
  },
  {
   "cell_type": "code",
   "execution_count": 28,
   "metadata": {
    "id": "EqKqUjOtjSL6"
   },
   "outputs": [],
   "source": [
    "class DiceRolling(BaseGame):\n",
    "    \"\"\"Rolling a dice.\"\"\"\n",
    "    \n",
    "    REROLL = 1\n",
    "    STOP = 0\n",
    "    BAD_INPUT = -1\n",
    "    MAX = 12\n",
    "    MIN = 1\n",
    "    \n",
    "    def run(self):\n",
    "        \"\"\"\"Main method to run the game.\"\"\"\n",
    "        \n",
    "        while True:\n",
    "            choice = input('Roll dice? (y/n): ')\n",
    "            action = self._input_check(choice)\n",
    "            \n",
    "            if action == DiceRolling.REROLL:\n",
    "                print(f'You got {self._random_number()}')\n",
    "            \n",
    "            elif action == DiceRolling.STOP:\n",
    "                return 0\n",
    "            \n",
    "            else:\n",
    "                print(\"You must type 'y' or 'n'! Try again...\")        \n",
    "\n",
    "\n",
    "    def _input_check(self, choice):\n",
    "        \"\"\"Check user input.\"\"\"\n",
    "        if choice == 'y':\n",
    "            return DiceRolling.REROLL\n",
    "        \n",
    "        elif choice == 'n':\n",
    "            return DiceRolling.STOP\n",
    "        \n",
    "        else:\n",
    "            return DiceRolling.BAD_INPUT    \n",
    "\n",
    "    \n",
    "    def _random_number(self):\n",
    "        return random.randint(DiceRolling.MIN, DiceRolling.MAX)"
   ]
  },
  {
   "cell_type": "code",
   "execution_count": 29,
   "metadata": {},
   "outputs": [
    {
     "name": "stdout",
     "output_type": "stream",
     "text": [
      "Roll dice? (y/n): y\n",
      "You got 1\n",
      "Roll dice? (y/n): h\n",
      "You must type 'y' or 'n'! Try again...\n",
      "Roll dice? (y/n): 1\n",
      "You must type 'y' or 'n'! Try again...\n",
      "Roll dice? (y/n): y\n",
      "You got 7\n",
      "Roll dice? (y/n): y\n",
      "You got 1\n",
      "Roll dice? (y/n): y\n",
      "You got 2\n",
      "Roll dice? (y/n): n\n"
     ]
    },
    {
     "data": {
      "text/plain": [
       "0"
      ]
     },
     "execution_count": 29,
     "metadata": {},
     "output_type": "execute_result"
    }
   ],
   "source": [
    "dice_rolling = DiceRolling()\n",
    "dice_rolling.run()"
   ]
  },
  {
   "cell_type": "markdown",
   "metadata": {
    "id": "4TtHU-LNWZxb"
   },
   "source": [
    "## Guessing Game"
   ]
  },
  {
   "cell_type": "markdown",
   "metadata": {
    "id": "qU8QSItcYXL7"
   },
   "source": [
    "The program will first randomly generate a number unknown to the user. The user needs to guess what that number is. (In other words, the user needs to be able to input information.) If the user’s guess is wrong, the program should return some sort of indication as to how wrong (e.g. The number is too high or too low). If the user guesses correctly, a positive indication should appear. You’ll need functions to check if the user input is an actual number, to see the difference between the inputted number and the randomly generated numbers, and to then compare the numbers."
   ]
  },
  {
   "cell_type": "code",
   "execution_count": 27,
   "metadata": {
    "id": "pnvHs7HKYCmI"
   },
   "outputs": [],
   "source": [
    "class GuessingGame(BaseGame):\n",
    "    \"\"\"Guess a number between 1 and 99.\"\"\"\n",
    "\n",
    "    VALID_INPUT = 1\n",
    "    BAD_INPUT = 0\n",
    "    LOW = 0\n",
    "    HIGH = 1\n",
    "    EQUAL = -1\n",
    "\n",
    "    def __init__(self):\n",
    "        self.__true_value = random.randint(1, 99)\n",
    "        self.__guesses = []\n",
    "        self.__choice = 0\n",
    "\n",
    "    def run(self):\n",
    "        \"\"\"\"Main method to run the game.\"\"\"\n",
    "\n",
    "        while True:\n",
    "            self.__choice = input('Enter an integer from 1 to 99: ')\n",
    "            action = self._input_check()\n",
    "\n",
    "            if action == GuessingGame.VALID_INPUT:\n",
    "                self.__guesses.append(self.__choice)\n",
    "                guess = self._input_compare()\n",
    "\n",
    "                if guess == GuessingGame.LOW:\n",
    "                    print('Your guess is low!')\n",
    "\n",
    "                elif guess == GuessingGame.HIGH:\n",
    "                    print('Your guess is high!')\n",
    "\n",
    "                else:\n",
    "                    print('You guessed it!')\n",
    "                    self._plot_guesses()\n",
    "                    break\n",
    "\n",
    "\n",
    "            elif action == GuessingGame.BAD_INPUT:\n",
    "                print('Your guess must be within 1 and 99! Try again...')\n",
    "\n",
    "    def _input_check(self):\n",
    "        \"\"\"Check user input.\"\"\"\n",
    "        if self.__choice.isdigit():\n",
    "            self.__choice = int(self.__choice)\n",
    "            if 1 <= self.__choice <= 99:\n",
    "                return GuessingGame.VALID_INPUT\n",
    "\n",
    "        return GuessingGame.BAD_INPUT\n",
    "\n",
    "    def _input_compare(self):\n",
    "        \"\"\"Compares user input to true value.\"\"\"\n",
    "        if self.__choice > self.__true_value:\n",
    "            return GuessingGame.HIGH\n",
    "\n",
    "        elif self.__choice < self.__true_value:\n",
    "            return GuessingGame.LOW\n",
    "\n",
    "        else:\n",
    "            return GuessingGame.EQUAL\n",
    "\n",
    "    def _plot_guesses(self):\n",
    "        \"\"\"Plot guesses and the true value.\"\"\"\n",
    "\n",
    "        plt.figure()\n",
    "        plt.style.use('ggplot')\n",
    "        plt.xlabel('Attempts')\n",
    "        plt.plot(self.__guesses, label='guesses', linestyle='-', marker='o', color='#4c72b0')\n",
    "        plt.axhline(y=self.__true_value, color='g', linestyle='-', label='true value')\n",
    "        plt.legend()\n",
    "        plt.show()\n"
   ]
  },
  {
   "cell_type": "code",
   "execution_count": 29,
   "metadata": {},
   "outputs": [
    {
     "name": "stdout",
     "output_type": "stream",
     "text": [
      "Enter an integer from 1 to 99: -1\n",
      "Your guess must be within 1 and 99! Try again...\n",
      "Enter an integer from 1 to 99: a\n",
      "Your guess must be within 1 and 99! Try again...\n",
      "Enter an integer from 1 to 99: 50\n",
      "Your guess is high!\n",
      "Enter an integer from 1 to 99: 10\n",
      "Your guess is low!\n",
      "Enter an integer from 1 to 99: 25\n",
      "Your guess is low!\n",
      "Enter an integer from 1 to 99: 35\n",
      "Your guess is high!\n",
      "Enter an integer from 1 to 99: 30\n",
      "Your guess is high!\n",
      "Enter an integer from 1 to 99: 27\n",
      "You guessed it!\n"
     ]
    },
    {
     "data": {
      "image/png": "[encoded data removed]",
      "text/plain": [
       "<Figure size 432x288 with 1 Axes>"
      ]
     },
     "metadata": {},
     "output_type": "display_data"
    }
   ],
   "source": [
    "guessing_game = GuessingGame()\n",
    "guessing_game.run()"
   ]
  }
 ],
 "metadata": {
  "colab": {
   "collapsed_sections": [],
   "name": "python_applied.ipynb",
   "provenance": []
  },
  "kernelspec": {
   "display_name": "Python 3",
   "language": "python",
   "name": "python3"
  },
  "language_info": {
   "codemirror_mode": {
    "name": "ipython",
    "version": 3
   },
   "file_extension": ".py",
   "mimetype": "text/x-python",
   "name": "python",
   "nbconvert_exporter": "python",
   "pygments_lexer": "ipython3",
   "version": "3.8.5"
  }
 },
 "nbformat": 4,
 "nbformat_minor": 1
}
